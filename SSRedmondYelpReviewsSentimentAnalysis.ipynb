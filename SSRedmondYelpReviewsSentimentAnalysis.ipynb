{
 "cells": [
  {
   "cell_type": "code",
   "execution_count": 1,
   "id": "138273ad-db1c-4f77-8028-bd8d67d07ce6",
   "metadata": {},
   "outputs": [],
   "source": [
    "import pandas as pd\n",
    "import matplotlib.pyplot as plt\n",
    "import string\n",
    "from sklearn.feature_extraction.text import TfidfVectorizer\n",
    "from sklearn.feature_extraction.text import CountVectorizer\n",
    "from scipy.sparse import csr_matrix\n",
    "from sklearn.model_selection import train_test_split\n",
    "from sklearn.linear_model import LogisticRegression\n",
    "from sklearn.metrics import accuracy_score\n",
    "import numpy as np\n",
    "import textwrap"
   ]
  },
  {
   "cell_type": "code",
   "execution_count": 2,
   "id": "68dfb15b-4fad-45ee-8d55-4aea712ab9f3",
   "metadata": {},
   "outputs": [
    {
     "data": {
      "image/png": "[encoded data removed]",
      "text/plain": [
       "<Figure size 432x288 with 1 Axes>"
      ]
     },
     "metadata": {
      "needs_background": "light"
     },
     "output_type": "display_data"
    }
   ],
   "source": [
    "reviews = pd.read_csv(\"redmond_yelp_reviews.csv\")\n",
    "\n",
    "_ = plt.hist(reviews.rating)\n",
    "_ = plt.xlabel(\"Rating\")\n",
    "_ = plt.ylabel(\"Count\")\n",
    "_ = plt.title(\"Rating Counts\")"
   ]
  },
  {
   "cell_type": "code",
   "execution_count": 3,
   "id": "4345659c-5c1b-46c1-b4a0-bd99887d4f16",
   "metadata": {},
   "outputs": [
    {
     "data": {
      "text/html": [
       "<div>\n",
       "<style scoped>\n",
       "    .dataframe tbody tr th:only-of-type {\n",
       "        vertical-align: middle;\n",
       "    }\n",
       "\n",
       "    .dataframe tbody tr th {\n",
       "        vertical-align: top;\n",
       "    }\n",
       "\n",
       "    .dataframe thead th {\n",
       "        text-align: right;\n",
       "    }\n",
       "</style>\n",
       "<table border=\"1\" class=\"dataframe\">\n",
       "  <thead>\n",
       "    <tr style=\"text-align: right;\">\n",
       "      <th></th>\n",
       "      <th>index</th>\n",
       "      <th>id</th>\n",
       "      <th>name</th>\n",
       "      <th>city</th>\n",
       "      <th>state</th>\n",
       "      <th>date</th>\n",
       "      <th>rating</th>\n",
       "      <th>text</th>\n",
       "      <th>sentiment</th>\n",
       "    </tr>\n",
       "  </thead>\n",
       "  <tbody>\n",
       "    <tr>\n",
       "      <th>0</th>\n",
       "      <td>0</td>\n",
       "      <td>1</td>\n",
       "      <td>Morgan B.</td>\n",
       "      <td>Bellingham</td>\n",
       "      <td>WA</td>\n",
       "      <td>12/24/2021</td>\n",
       "      <td>5</td>\n",
       "      <td>Amazing Thai food. We had our in office partie...</td>\n",
       "      <td>positive</td>\n",
       "    </tr>\n",
       "    <tr>\n",
       "      <th>1</th>\n",
       "      <td>1</td>\n",
       "      <td>2</td>\n",
       "      <td>Shay C.</td>\n",
       "      <td>Vancouver</td>\n",
       "      <td>WA</td>\n",
       "      <td>12/26/2021</td>\n",
       "      <td>1</td>\n",
       "      <td>Ordered here with Uber Eats on 12/26 when it w...</td>\n",
       "      <td>negative</td>\n",
       "    </tr>\n",
       "    <tr>\n",
       "      <th>2</th>\n",
       "      <td>2</td>\n",
       "      <td>3</td>\n",
       "      <td>Sarah S.</td>\n",
       "      <td>Seattle</td>\n",
       "      <td>WA</td>\n",
       "      <td>7/5/2021</td>\n",
       "      <td>5</td>\n",
       "      <td>We ordered our usual- the Phad Thai, Phad See ...</td>\n",
       "      <td>positive</td>\n",
       "    </tr>\n",
       "    <tr>\n",
       "      <th>3</th>\n",
       "      <td>3</td>\n",
       "      <td>4</td>\n",
       "      <td>Michael S.</td>\n",
       "      <td>Carnation</td>\n",
       "      <td>WA</td>\n",
       "      <td>12/6/2021</td>\n",
       "      <td>1</td>\n",
       "      <td>Food was soggy and runny. Portions were large ...</td>\n",
       "      <td>negative</td>\n",
       "    </tr>\n",
       "    <tr>\n",
       "      <th>4</th>\n",
       "      <td>4</td>\n",
       "      <td>5</td>\n",
       "      <td>Mo P.</td>\n",
       "      <td>Camarillo</td>\n",
       "      <td>CA</td>\n",
       "      <td>6/20/2021</td>\n",
       "      <td>5</td>\n",
       "      <td>Delicious food and wonderful service. Both ind...</td>\n",
       "      <td>positive</td>\n",
       "    </tr>\n",
       "  </tbody>\n",
       "</table>\n",
       "</div>"
      ],
      "text/plain": [
       "   index  id        name        city state        date  rating  \\\n",
       "0      0   1   Morgan B.  Bellingham    WA  12/24/2021       5   \n",
       "1      1   2     Shay C.   Vancouver    WA  12/26/2021       1   \n",
       "2      2   3    Sarah S.     Seattle    WA    7/5/2021       5   \n",
       "3      3   4  Michael S.   Carnation    WA   12/6/2021       1   \n",
       "4      4   5       Mo P.   Camarillo    CA   6/20/2021       5   \n",
       "\n",
       "                                                text sentiment  \n",
       "0  Amazing Thai food. We had our in office partie...  positive  \n",
       "1  Ordered here with Uber Eats on 12/26 when it w...  negative  \n",
       "2  We ordered our usual- the Phad Thai, Phad See ...  positive  \n",
       "3  Food was soggy and runny. Portions were large ...  negative  \n",
       "4  Delicious food and wonderful service. Both ind...  positive  "
      ]
     },
     "execution_count": 3,
     "metadata": {},
     "output_type": "execute_result"
    }
   ],
   "source": [
    "reviews = reviews[reviews.rating!=3]\n",
    "reviews = reviews.reset_index()\n",
    "\n",
    "for i in range(len(reviews)):\n",
    "    row = reviews.iloc[i,:]\n",
    "    row_rating = row.rating\n",
    "    if row_rating <= 2:\n",
    "        reviews.loc[i,\"sentiment\"] = \"negative\"\n",
    "    else:\n",
    "        reviews.loc[i,\"sentiment\"] = \"positive\"\n",
    "        \n",
    "reviews.head()"
   ]
  },
  {
   "cell_type": "code",
   "execution_count": 4,
   "id": "50e4fe62-9da0-450e-a894-294de1294fc4",
   "metadata": {},
   "outputs": [
    {
     "data": {
      "text/html": [
       "<div>\n",
       "<style scoped>\n",
       "    .dataframe tbody tr th:only-of-type {\n",
       "        vertical-align: middle;\n",
       "    }\n",
       "\n",
       "    .dataframe tbody tr th {\n",
       "        vertical-align: top;\n",
       "    }\n",
       "\n",
       "    .dataframe thead th {\n",
       "        text-align: right;\n",
       "    }\n",
       "</style>\n",
       "<table border=\"1\" class=\"dataframe\">\n",
       "  <thead>\n",
       "    <tr style=\"text-align: right;\">\n",
       "      <th></th>\n",
       "      <th>index</th>\n",
       "      <th>id</th>\n",
       "      <th>name</th>\n",
       "      <th>city</th>\n",
       "      <th>state</th>\n",
       "      <th>date</th>\n",
       "      <th>rating</th>\n",
       "      <th>text</th>\n",
       "      <th>sentiment</th>\n",
       "      <th>text_no_punct</th>\n",
       "    </tr>\n",
       "  </thead>\n",
       "  <tbody>\n",
       "    <tr>\n",
       "      <th>0</th>\n",
       "      <td>0</td>\n",
       "      <td>1</td>\n",
       "      <td>Morgan B.</td>\n",
       "      <td>Bellingham</td>\n",
       "      <td>WA</td>\n",
       "      <td>12/24/2021</td>\n",
       "      <td>5</td>\n",
       "      <td>Amazing Thai food. We had our in office partie...</td>\n",
       "      <td>positive</td>\n",
       "      <td>Amazing Thai food We had our in office parties...</td>\n",
       "    </tr>\n",
       "    <tr>\n",
       "      <th>1</th>\n",
       "      <td>1</td>\n",
       "      <td>2</td>\n",
       "      <td>Shay C.</td>\n",
       "      <td>Vancouver</td>\n",
       "      <td>WA</td>\n",
       "      <td>12/26/2021</td>\n",
       "      <td>1</td>\n",
       "      <td>Ordered here with Uber Eats on 12/26 when it w...</td>\n",
       "      <td>negative</td>\n",
       "      <td>Ordered here with Uber Eats on 1226 when it wa...</td>\n",
       "    </tr>\n",
       "    <tr>\n",
       "      <th>2</th>\n",
       "      <td>2</td>\n",
       "      <td>3</td>\n",
       "      <td>Sarah S.</td>\n",
       "      <td>Seattle</td>\n",
       "      <td>WA</td>\n",
       "      <td>7/5/2021</td>\n",
       "      <td>5</td>\n",
       "      <td>We ordered our usual- the Phad Thai, Phad See ...</td>\n",
       "      <td>positive</td>\n",
       "      <td>We ordered our usual the Phad Thai Phad See Iw...</td>\n",
       "    </tr>\n",
       "    <tr>\n",
       "      <th>3</th>\n",
       "      <td>3</td>\n",
       "      <td>4</td>\n",
       "      <td>Michael S.</td>\n",
       "      <td>Carnation</td>\n",
       "      <td>WA</td>\n",
       "      <td>12/6/2021</td>\n",
       "      <td>1</td>\n",
       "      <td>Food was soggy and runny. Portions were large ...</td>\n",
       "      <td>negative</td>\n",
       "      <td>Food was soggy and runny Portions were large b...</td>\n",
       "    </tr>\n",
       "    <tr>\n",
       "      <th>4</th>\n",
       "      <td>4</td>\n",
       "      <td>5</td>\n",
       "      <td>Mo P.</td>\n",
       "      <td>Camarillo</td>\n",
       "      <td>CA</td>\n",
       "      <td>6/20/2021</td>\n",
       "      <td>5</td>\n",
       "      <td>Delicious food and wonderful service. Both ind...</td>\n",
       "      <td>positive</td>\n",
       "      <td>Delicious food and wonderful service Both indo...</td>\n",
       "    </tr>\n",
       "  </tbody>\n",
       "</table>\n",
       "</div>"
      ],
      "text/plain": [
       "   index  id        name        city state        date  rating  \\\n",
       "0      0   1   Morgan B.  Bellingham    WA  12/24/2021       5   \n",
       "1      1   2     Shay C.   Vancouver    WA  12/26/2021       1   \n",
       "2      2   3    Sarah S.     Seattle    WA    7/5/2021       5   \n",
       "3      3   4  Michael S.   Carnation    WA   12/6/2021       1   \n",
       "4      4   5       Mo P.   Camarillo    CA   6/20/2021       5   \n",
       "\n",
       "                                                text sentiment  \\\n",
       "0  Amazing Thai food. We had our in office partie...  positive   \n",
       "1  Ordered here with Uber Eats on 12/26 when it w...  negative   \n",
       "2  We ordered our usual- the Phad Thai, Phad See ...  positive   \n",
       "3  Food was soggy and runny. Portions were large ...  negative   \n",
       "4  Delicious food and wonderful service. Both ind...  positive   \n",
       "\n",
       "                                       text_no_punct  \n",
       "0  Amazing Thai food We had our in office parties...  \n",
       "1  Ordered here with Uber Eats on 1226 when it wa...  \n",
       "2  We ordered our usual the Phad Thai Phad See Iw...  \n",
       "3  Food was soggy and runny Portions were large b...  \n",
       "4  Delicious food and wonderful service Both indo...  "
      ]
     },
     "execution_count": 4,
     "metadata": {},
     "output_type": "execute_result"
    }
   ],
   "source": [
    "for i in range(len(reviews)):\n",
    "    row = reviews.iloc[i,:]\n",
    "    row_text = row.text\n",
    "    if type(row_text) is str:\n",
    "        reviews.loc[i,\"text_no_punct\"] = row_text.translate(str.maketrans(\"\",\"\",string.punctuation))\n",
    "    else:\n",
    "        reviews.loc[i,\"text_no_punct\"] = \"\"\n",
    "    \n",
    "reviews.head()"
   ]
  },
  {
   "cell_type": "code",
   "execution_count": 5,
   "id": "b6969e58-748b-421c-93f9-b89fc010cbc0",
   "metadata": {},
   "outputs": [],
   "source": [
    "count_vec = CountVectorizer()\n",
    "word_counts = count_vec.fit_transform(reviews.text_no_punct)\n",
    "count_words = count_vec.get_feature_names()\n",
    "word_counts = csr_matrix(word_counts)\n",
    "\n",
    "word_counts_reviews = pd.DataFrame(word_counts.toarray(),index=reviews.index,columns=count_words)\n",
    "word_counts_reviews[\"sentiment\"] = reviews.sentiment\n",
    "word_counts_reviews['text_no_punct'] = reviews.text_no_punct\n",
    "word_counts_reviews['text'] = reviews.text\n",
    "\n",
    "tf_idf_vec = TfidfVectorizer(max_df=0.95)\n",
    "tf_idf = tf_idf_vec.fit_transform(reviews.text_no_punct)\n",
    "tf_idf_words = tf_idf_vec.get_feature_names()\n",
    "tf_idf = csr_matrix(tf_idf)\n",
    "\n",
    "tf_idf_reviews = pd.DataFrame(tf_idf.toarray(),index=reviews.index,columns=tf_idf_words)\n",
    "tf_idf_reviews[\"sentiment\"] = reviews.sentiment\n",
    "tf_idf_reviews['text_no_punct'] = reviews.text_no_punct\n",
    "tf_idf_reviews['text'] = reviews.text\n"
   ]
  },
  {
   "cell_type": "code",
   "execution_count": 6,
   "id": "72fd2ec2-7ab0-497f-9030-ae2ac5504bff",
   "metadata": {},
   "outputs": [
    {
     "name": "stdout",
     "output_type": "stream",
     "text": [
      "Word Count Model Mean Accuracy: 0.8717391304347825\n",
      "Tf-idf Model Mean Accuracy: 0.8630434782608696\n"
     ]
    }
   ],
   "source": [
    "word_counts_val_accuracies = []\n",
    "tf_idf_val_accuracies = []\n",
    "\n",
    "for i in range(20):\n",
    "\n",
    "    word_counts_train, word_counts_test = train_test_split(word_counts_reviews,test_size=0.2)\n",
    "    word_counts_val, word_counts_test = train_test_split(word_counts_test,test_size=0.5)\n",
    "\n",
    "    tf_idf_train, tf_idf_test = train_test_split(tf_idf_reviews,test_size=0.2)\n",
    "    tf_idf_val, tf_idf_test = train_test_split(tf_idf_test,test_size=0.5)\n",
    "\n",
    "    # No regularization\n",
    "\n",
    "    word_counts_model = LogisticRegression(penalty='l2',C=1e25)\n",
    "    word_counts_model.fit(word_counts_train[count_words],word_counts_train.sentiment)\n",
    "\n",
    "    tf_idf_model = LogisticRegression(penalty='l2',C=1e25)\n",
    "    tf_idf_model.fit(tf_idf_train[tf_idf_words],tf_idf_train.sentiment)\n",
    "\n",
    "    word_counts_model_predictions = word_counts_model.predict(word_counts_val[count_words])\n",
    "    word_counts_model_val_accuracy = accuracy_score(word_counts_val.sentiment,word_counts_model_predictions)\n",
    "    word_counts_val_accuracies.append(word_counts_model_val_accuracy)\n",
    "    #print(\"Word Counts Model Accuracy:\",word_counts_model_val_accuracy)\n",
    "\n",
    "    tf_idf_model_predictions = tf_idf_model.predict(tf_idf_val[tf_idf_words])\n",
    "    tf_idf_model_val_accuracy = accuracy_score(tf_idf_val.sentiment,tf_idf_model_predictions)\n",
    "    tf_idf_val_accuracies.append(tf_idf_model_val_accuracy)\n",
    "    #print(\"Tf-idf Model Accuracy:\",tf_idf_model_val_accuracy)\n",
    "    \n",
    "print(\"Word Count Model Mean Accuracy:\",np.mean(word_counts_val_accuracies))\n",
    "print(\"Tf-idf Model Mean Accuracy:\",np.mean(tf_idf_val_accuracies))"
   ]
  },
  {
   "cell_type": "code",
   "execution_count": 7,
   "id": "3411ae28-c4db-4d9f-ad2b-ab5e2996866b",
   "metadata": {},
   "outputs": [
    {
     "data": {
      "text/plain": [
       "LogisticRegression(C=1e+25)"
      ]
     },
     "execution_count": 7,
     "metadata": {},
     "output_type": "execute_result"
    }
   ],
   "source": [
    "tf_idf_train, tf_idf_test = train_test_split(tf_idf_reviews,test_size=0.2)\n",
    "tf_idf_val, tf_idf_test = train_test_split(tf_idf_test,test_size=0.5)\n",
    "\n",
    "tf_idf_model = LogisticRegression(penalty='l2',C=1e25)\n",
    "tf_idf_model.fit(tf_idf_train[tf_idf_words],tf_idf_train.sentiment)"
   ]
  },
  {
   "cell_type": "code",
   "execution_count": 8,
   "id": "c2b02137-a9b6-4618-a1d8-b714309d8a61",
   "metadata": {},
   "outputs": [],
   "source": [
    "tf_idf_models = []\n",
    "\n",
    "for reg_coeff in np.logspace(-5,5,10):\n",
    "    tf_idf_model = LogisticRegression(penalty='l2',C=1/reg_coeff)\n",
    "    tf_idf_model.fit(tf_idf_train[tf_idf_words],tf_idf_train.sentiment)\n",
    "    val_predictions = tf_idf_model.predict(tf_idf_val[tf_idf_words])\n",
    "    val_accuracy = accuracy_score(tf_idf_val.sentiment,val_predictions)\n",
    "    tf_idf_models.append({\n",
    "        \"reg_coeff\": reg_coeff,\n",
    "        \"model\": tf_idf_model,\n",
    "        \"val_accuracy\": val_accuracy\n",
    "    })\n",
    "    \n",
    "tf_idf_models = pd.DataFrame(tf_idf_models)"
   ]
  },
  {
   "cell_type": "code",
   "execution_count": 9,
   "id": "a2b9329c-3aa8-4b80-a021-1af007b77155",
   "metadata": {},
   "outputs": [],
   "source": [
    "best_model_index = tf_idf_models.val_accuracy.idxmax()\n",
    "best_model_row = tf_idf_models.iloc[best_model_index,:]\n",
    "tf_idf_model = best_model_row.model"
   ]
  },
  {
   "cell_type": "code",
   "execution_count": 10,
   "id": "65f2755f-44af-4d1f-87d1-8d55d31b9297",
   "metadata": {},
   "outputs": [
    {
     "name": "stdout",
     "output_type": "stream",
     "text": [
      "Most positive word is great\n",
      "Most negative word is rude\n"
     ]
    }
   ],
   "source": [
    "coeffs = tf_idf_model.coef_[0]\n",
    "coeffs_df = pd.DataFrame(coeffs)\n",
    "\n",
    "most_positive_word_index = coeffs_df[0].idxmax()\n",
    "most_positive_word = tf_idf_words[most_positive_word_index]\n",
    "print(\"Most positive word is\",most_positive_word)\n",
    "\n",
    "most_negative_word_index = coeffs_df[0].idxmin()\n",
    "most_negative_word = tf_idf_words[most_negative_word_index]\n",
    "print(\"Most negative word is\",most_negative_word)"
   ]
  },
  {
   "cell_type": "code",
   "execution_count": 11,
   "id": "9421f04c-263a-4303-b420-ef12f3b24ad0",
   "metadata": {},
   "outputs": [
    {
     "name": "stdout",
     "output_type": "stream",
     "text": [
      "The most negative review in validation set (based on current model):\n",
      "\n",
      "Have been 3 times in last 6 months.  First visit was great! 2nd visit not edible, ordered beef phad Thai, dry, horrible.  Last visit, gross, Phad Thai\n",
      "was sticky, crab fried rice had clumps of cold rice in it!  Not fresh, service was rude!  Tea was sickening sweet asked for more milk, she glared and\n",
      "barely changed it, then sat container overflowing on counter.   I don't earn my money to give it to bad food and horrible service!\n",
      "\n",
      "The most positive review in validation set (based on current model):\n",
      "\n",
      "We ordered our usual- the Phad Thai, Phad See Iw with chicken, and Phad Kee Mao Chicken to go. One thing I love about Silver Spoon is that their spice\n",
      "levels have a lot of range. While I prefer my food on the spicier side, we were able to share the 1 and 2 star levels comfortably with the extended\n",
      "family. For my own self, I would prefer 4 or 5 star, but with that being said, their flavors hold up and are wonderful even without the kick!Their\n",
      "Phad Thai is some of the best around. We look forward to dining in person, but were thrilled we could have their food during the fourth of July!\n"
     ]
    }
   ],
   "source": [
    "val_pred_probs = pd.DataFrame(tf_idf_model.predict_proba(tf_idf_val[tf_idf_words]),columns=[\"negative_prob\",\"positive_prob\"])\n",
    "\n",
    "negative_pred_probs = val_pred_probs.negative_prob\n",
    "most_negative_index = negative_pred_probs.idxmax()\n",
    "most_negative_review = tf_idf_reviews.iloc[most_negative_index,:]\n",
    "most_negative_review_text = most_negative_review.text\n",
    "print(\"The most negative review in validation set (based on current model):\")\n",
    "print()\n",
    "print(textwrap.fill(most_negative_review_text,150))\n",
    "print()\n",
    "\n",
    "positive_pred_probs = val_pred_probs.positive_prob\n",
    "most_positive_index = positive_pred_probs.idxmax()\n",
    "most_positive_review = tf_idf_reviews.iloc[most_positive_index,:]\n",
    "most_positive_review_text = most_positive_review.text\n",
    "print(\"The most positive review in validation set (based on current model):\")\n",
    "print()\n",
    "print(textwrap.fill(most_positive_review_text,150))\n"
   ]
  },
  {
   "cell_type": "code",
   "execution_count": 12,
   "id": "7b7c28f2-d98c-4c77-bd92-32d2262080fb",
   "metadata": {},
   "outputs": [
    {
     "name": "stdout",
     "output_type": "stream",
     "text": [
      "The most negative review in test set (based on current model):\n",
      "\n",
      "As a gluten free / dairy free foodie, I appreciate this restaurant! Their food is not only accommodating to my dietary restrictions, but also\n",
      "delicious. I'm never disappointed by my order of Golden Noodles with vegetables and extra vegetables or Thai fried rice with tofu and extra\n",
      "vegetables. The quality had NOT changed since Covid. The wait times for pick up are reasonable and they have created a pick up environment that is\n",
      "convenient and safe.\n",
      "\n",
      "The most positive review in test set (based on current model):\n",
      "\n",
      "Folks. This Thai place rocks. They never wavered during covid and still create fantastic dishes. They are open for indoor and outdoor (or soon will\n",
      "be) dining. They really are exceptional in quality of food flavor and overall experience. And obviously other people think so too. Always a stack of\n",
      "orders in waiting for pickup. Thank you SS. Btw the Siracha noodles is tasty! Something different.\n"
     ]
    }
   ],
   "source": [
    "test_pred_probs = pd.DataFrame(tf_idf_model.predict_proba(tf_idf_test[tf_idf_words]),columns=[\"negative_prob\",\"positive_prob\"])\n",
    "\n",
    "negative_pred_probs = test_pred_probs.negative_prob\n",
    "most_negative_index = negative_pred_probs.idxmax()\n",
    "most_negative_review = tf_idf_reviews.iloc[most_negative_index,:]\n",
    "most_negative_review_text = most_negative_review.text\n",
    "print(\"The most negative review in test set (based on current model):\")\n",
    "print()\n",
    "print(textwrap.fill(most_negative_review_text,150))\n",
    "print()\n",
    "\n",
    "positive_pred_probs = test_pred_probs.positive_prob\n",
    "most_positive_index = positive_pred_probs.idxmax()\n",
    "most_positive_review = tf_idf_reviews.iloc[most_positive_index,:]\n",
    "most_positive_review_text = most_positive_review.text\n",
    "print(\"The most positive review in test set (based on current model):\")\n",
    "print()\n",
    "print(textwrap.fill(most_positive_review_text,150))\n"
   ]
  },
  {
   "cell_type": "code",
   "execution_count": 13,
   "id": "cafb2469-fc1c-4bd8-a233-6a5278878d38",
   "metadata": {},
   "outputs": [
    {
     "name": "stdout",
     "output_type": "stream",
     "text": [
      "The most negative review (based on current model):\n",
      "\n",
      "The food is not good.  It's close to home but not on our list of top 10.   After this evenings meal i vow to not go back again.  This is not the issue\n",
      "however.  The service is miserable.  They are very rude.  Little english, but it's not a a language issue - they are just extremely rude.  Not people\n",
      "who should be in food service or customer service.\n",
      "\n",
      "The most positive review (based on current model):\n",
      "\n",
      "I love this place, I go here at least once a month. It is always clean, fast and great service and excellent food!\n"
     ]
    }
   ],
   "source": [
    "pred_probs = pd.DataFrame(tf_idf_model.predict_proba(tf_idf_reviews[tf_idf_words]),columns=[\"negative_prob\",\"positive_prob\"])\n",
    "\n",
    "negative_pred_probs = pred_probs.negative_prob\n",
    "most_negative_index = negative_pred_probs.idxmax()\n",
    "most_negative_review = tf_idf_reviews.iloc[most_negative_index,:]\n",
    "most_negative_review_text = most_negative_review.text\n",
    "print(\"The most negative review (based on current model):\")\n",
    "print()\n",
    "print(textwrap.fill(most_negative_review_text,150))\n",
    "print()\n",
    "\n",
    "positive_pred_probs = pred_probs.positive_prob\n",
    "most_positive_index = positive_pred_probs.idxmax()\n",
    "most_positive_review = tf_idf_reviews.iloc[most_positive_index,:]\n",
    "most_positive_review_text = most_positive_review.text\n",
    "print(\"The most positive review (based on current model):\")\n",
    "print()\n",
    "print(textwrap.fill(most_positive_review_text,150))"
   ]
  },
  {
   "cell_type": "code",
   "execution_count": null,
   "id": "8b7cc218-dd9f-4fa0-be24-7f2fbc7e81af",
   "metadata": {},
   "outputs": [],
   "source": []
  }
 ],
 "metadata": {
  "kernelspec": {
   "display_name": "Python 3",
   "language": "python",
   "name": "python3"
  },
  "language_info": {
   "codemirror_mode": {
    "name": "ipython",
    "version": 3
   },
   "file_extension": ".py",
   "mimetype": "text/x-python",
   "name": "python",
   "nbconvert_exporter": "python",
   "pygments_lexer": "ipython3",
   "version": "3.8.8"
  }
 },
 "nbformat": 4,
 "nbformat_minor": 5
}
