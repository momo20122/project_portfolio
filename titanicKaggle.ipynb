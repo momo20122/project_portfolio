{
 "cells": [
  {
   "cell_type": "code",
   "execution_count": 1,
   "id": "d99132d8-04a4-47a8-abeb-0d1dfae19e2b",
   "metadata": {},
   "outputs": [],
   "source": [
    "import pandas as pd\n",
    "from sklearn.model_selection import cross_val_score\n",
    "from sklearn.linear_model import LogisticRegression\n",
    "from sklearn.metrics import precision_score\n",
    "from sklearn.metrics import accuracy_score\n",
    "from sklearn.model_selection import train_test_split\n",
    "import numpy as np\n",
    "from sklearn.preprocessing import StandardScaler\n",
    "from sklearn.model_selection import GridSearchCV\n",
    "import matplotlib.pyplot as plt\n",
    "from sklearn.tree import DecisionTreeClassifier"
   ]
  },
  {
   "cell_type": "code",
   "execution_count": 2,
   "id": "2006de5b-96fc-461b-888f-f0c9856fc6ea",
   "metadata": {},
   "outputs": [],
   "source": [
    "titanic_train = pd.read_csv(\"train.csv\")\n",
    "titanic_test = pd.read_csv(\"test.csv\")"
   ]
  },
  {
   "cell_type": "code",
   "execution_count": 3,
   "id": "36107c4c-2537-4c90-ac72-e69c9c26cc1e",
   "metadata": {},
   "outputs": [
    {
     "data": {
      "text/html": [
       "<div>\n",
       "<style scoped>\n",
       "    .dataframe tbody tr th:only-of-type {\n",
       "        vertical-align: middle;\n",
       "    }\n",
       "\n",
       "    .dataframe tbody tr th {\n",
       "        vertical-align: top;\n",
       "    }\n",
       "\n",
       "    .dataframe thead th {\n",
       "        text-align: right;\n",
       "    }\n",
       "</style>\n",
       "<table border=\"1\" class=\"dataframe\">\n",
       "  <thead>\n",
       "    <tr style=\"text-align: right;\">\n",
       "      <th></th>\n",
       "      <th>PassengerId</th>\n",
       "      <th>Survived</th>\n",
       "      <th>Pclass</th>\n",
       "      <th>Name</th>\n",
       "      <th>Sex</th>\n",
       "      <th>Age</th>\n",
       "      <th>SibSp</th>\n",
       "      <th>Parch</th>\n",
       "      <th>Ticket</th>\n",
       "      <th>Fare</th>\n",
       "      <th>Cabin</th>\n",
       "      <th>Embarked</th>\n",
       "    </tr>\n",
       "  </thead>\n",
       "  <tbody>\n",
       "    <tr>\n",
       "      <th>0</th>\n",
       "      <td>1</td>\n",
       "      <td>0</td>\n",
       "      <td>3</td>\n",
       "      <td>Braund, Mr. Owen Harris</td>\n",
       "      <td>male</td>\n",
       "      <td>22.0</td>\n",
       "      <td>1</td>\n",
       "      <td>0</td>\n",
       "      <td>A/5 21171</td>\n",
       "      <td>7.2500</td>\n",
       "      <td>NaN</td>\n",
       "      <td>S</td>\n",
       "    </tr>\n",
       "    <tr>\n",
       "      <th>1</th>\n",
       "      <td>2</td>\n",
       "      <td>1</td>\n",
       "      <td>1</td>\n",
       "      <td>Cumings, Mrs. John Bradley (Florence Briggs Th...</td>\n",
       "      <td>female</td>\n",
       "      <td>38.0</td>\n",
       "      <td>1</td>\n",
       "      <td>0</td>\n",
       "      <td>PC 17599</td>\n",
       "      <td>71.2833</td>\n",
       "      <td>C85</td>\n",
       "      <td>C</td>\n",
       "    </tr>\n",
       "    <tr>\n",
       "      <th>2</th>\n",
       "      <td>3</td>\n",
       "      <td>1</td>\n",
       "      <td>3</td>\n",
       "      <td>Heikkinen, Miss. Laina</td>\n",
       "      <td>female</td>\n",
       "      <td>26.0</td>\n",
       "      <td>0</td>\n",
       "      <td>0</td>\n",
       "      <td>STON/O2. 3101282</td>\n",
       "      <td>7.9250</td>\n",
       "      <td>NaN</td>\n",
       "      <td>S</td>\n",
       "    </tr>\n",
       "    <tr>\n",
       "      <th>3</th>\n",
       "      <td>4</td>\n",
       "      <td>1</td>\n",
       "      <td>1</td>\n",
       "      <td>Futrelle, Mrs. Jacques Heath (Lily May Peel)</td>\n",
       "      <td>female</td>\n",
       "      <td>35.0</td>\n",
       "      <td>1</td>\n",
       "      <td>0</td>\n",
       "      <td>113803</td>\n",
       "      <td>53.1000</td>\n",
       "      <td>C123</td>\n",
       "      <td>S</td>\n",
       "    </tr>\n",
       "    <tr>\n",
       "      <th>4</th>\n",
       "      <td>5</td>\n",
       "      <td>0</td>\n",
       "      <td>3</td>\n",
       "      <td>Allen, Mr. William Henry</td>\n",
       "      <td>male</td>\n",
       "      <td>35.0</td>\n",
       "      <td>0</td>\n",
       "      <td>0</td>\n",
       "      <td>373450</td>\n",
       "      <td>8.0500</td>\n",
       "      <td>NaN</td>\n",
       "      <td>S</td>\n",
       "    </tr>\n",
       "  </tbody>\n",
       "</table>\n",
       "</div>"
      ],
      "text/plain": [
       "   PassengerId  Survived  Pclass  \\\n",
       "0            1         0       3   \n",
       "1            2         1       1   \n",
       "2            3         1       3   \n",
       "3            4         1       1   \n",
       "4            5         0       3   \n",
       "\n",
       "                                                Name     Sex   Age  SibSp  \\\n",
       "0                            Braund, Mr. Owen Harris    male  22.0      1   \n",
       "1  Cumings, Mrs. John Bradley (Florence Briggs Th...  female  38.0      1   \n",
       "2                             Heikkinen, Miss. Laina  female  26.0      0   \n",
       "3       Futrelle, Mrs. Jacques Heath (Lily May Peel)  female  35.0      1   \n",
       "4                           Allen, Mr. William Henry    male  35.0      0   \n",
       "\n",
       "   Parch            Ticket     Fare Cabin Embarked  \n",
       "0      0         A/5 21171   7.2500   NaN        S  \n",
       "1      0          PC 17599  71.2833   C85        C  \n",
       "2      0  STON/O2. 3101282   7.9250   NaN        S  \n",
       "3      0            113803  53.1000  C123        S  \n",
       "4      0            373450   8.0500   NaN        S  "
      ]
     },
     "execution_count": 3,
     "metadata": {},
     "output_type": "execute_result"
    }
   ],
   "source": [
    "titanic_train.head(5)"
   ]
  },
  {
   "cell_type": "code",
   "execution_count": 4,
   "id": "ed57c6ae-45e4-4a50-a050-33864eb24903",
   "metadata": {},
   "outputs": [
    {
     "name": "stdout",
     "output_type": "stream",
     "text": [
      "Train Info\n",
      "\n",
      "(891, 12)\n",
      "\n",
      "PassengerId      0\n",
      "Survived         0\n",
      "Pclass           0\n",
      "Name             0\n",
      "Sex              0\n",
      "Age            177\n",
      "SibSp            0\n",
      "Parch            0\n",
      "Ticket           0\n",
      "Fare             0\n",
      "Cabin          687\n",
      "Embarked         2\n",
      "dtype: int64\n"
     ]
    }
   ],
   "source": [
    "print('Train Info')\n",
    "print(\"\")\n",
    "print(titanic_train.shape)\n",
    "print(\"\")\n",
    "print(titanic_train.isna().sum())"
   ]
  },
  {
   "cell_type": "code",
   "execution_count": 5,
   "id": "db48cc3a-877e-4ad0-b5c3-a89d2cdc2803",
   "metadata": {},
   "outputs": [
    {
     "data": {
      "text/html": [
       "<div>\n",
       "<style scoped>\n",
       "    .dataframe tbody tr th:only-of-type {\n",
       "        vertical-align: middle;\n",
       "    }\n",
       "\n",
       "    .dataframe tbody tr th {\n",
       "        vertical-align: top;\n",
       "    }\n",
       "\n",
       "    .dataframe thead th {\n",
       "        text-align: right;\n",
       "    }\n",
       "</style>\n",
       "<table border=\"1\" class=\"dataframe\">\n",
       "  <thead>\n",
       "    <tr style=\"text-align: right;\">\n",
       "      <th></th>\n",
       "      <th>PassengerId</th>\n",
       "      <th>Pclass</th>\n",
       "      <th>Name</th>\n",
       "      <th>Sex</th>\n",
       "      <th>Age</th>\n",
       "      <th>SibSp</th>\n",
       "      <th>Parch</th>\n",
       "      <th>Ticket</th>\n",
       "      <th>Fare</th>\n",
       "      <th>Cabin</th>\n",
       "      <th>Embarked</th>\n",
       "    </tr>\n",
       "  </thead>\n",
       "  <tbody>\n",
       "    <tr>\n",
       "      <th>0</th>\n",
       "      <td>892</td>\n",
       "      <td>3</td>\n",
       "      <td>Kelly, Mr. James</td>\n",
       "      <td>male</td>\n",
       "      <td>34.5</td>\n",
       "      <td>0</td>\n",
       "      <td>0</td>\n",
       "      <td>330911</td>\n",
       "      <td>7.8292</td>\n",
       "      <td>NaN</td>\n",
       "      <td>Q</td>\n",
       "    </tr>\n",
       "    <tr>\n",
       "      <th>1</th>\n",
       "      <td>893</td>\n",
       "      <td>3</td>\n",
       "      <td>Wilkes, Mrs. James (Ellen Needs)</td>\n",
       "      <td>female</td>\n",
       "      <td>47.0</td>\n",
       "      <td>1</td>\n",
       "      <td>0</td>\n",
       "      <td>363272</td>\n",
       "      <td>7.0000</td>\n",
       "      <td>NaN</td>\n",
       "      <td>S</td>\n",
       "    </tr>\n",
       "    <tr>\n",
       "      <th>2</th>\n",
       "      <td>894</td>\n",
       "      <td>2</td>\n",
       "      <td>Myles, Mr. Thomas Francis</td>\n",
       "      <td>male</td>\n",
       "      <td>62.0</td>\n",
       "      <td>0</td>\n",
       "      <td>0</td>\n",
       "      <td>240276</td>\n",
       "      <td>9.6875</td>\n",
       "      <td>NaN</td>\n",
       "      <td>Q</td>\n",
       "    </tr>\n",
       "    <tr>\n",
       "      <th>3</th>\n",
       "      <td>895</td>\n",
       "      <td>3</td>\n",
       "      <td>Wirz, Mr. Albert</td>\n",
       "      <td>male</td>\n",
       "      <td>27.0</td>\n",
       "      <td>0</td>\n",
       "      <td>0</td>\n",
       "      <td>315154</td>\n",
       "      <td>8.6625</td>\n",
       "      <td>NaN</td>\n",
       "      <td>S</td>\n",
       "    </tr>\n",
       "    <tr>\n",
       "      <th>4</th>\n",
       "      <td>896</td>\n",
       "      <td>3</td>\n",
       "      <td>Hirvonen, Mrs. Alexander (Helga E Lindqvist)</td>\n",
       "      <td>female</td>\n",
       "      <td>22.0</td>\n",
       "      <td>1</td>\n",
       "      <td>1</td>\n",
       "      <td>3101298</td>\n",
       "      <td>12.2875</td>\n",
       "      <td>NaN</td>\n",
       "      <td>S</td>\n",
       "    </tr>\n",
       "  </tbody>\n",
       "</table>\n",
       "</div>"
      ],
      "text/plain": [
       "   PassengerId  Pclass                                          Name     Sex  \\\n",
       "0          892       3                              Kelly, Mr. James    male   \n",
       "1          893       3              Wilkes, Mrs. James (Ellen Needs)  female   \n",
       "2          894       2                     Myles, Mr. Thomas Francis    male   \n",
       "3          895       3                              Wirz, Mr. Albert    male   \n",
       "4          896       3  Hirvonen, Mrs. Alexander (Helga E Lindqvist)  female   \n",
       "\n",
       "    Age  SibSp  Parch   Ticket     Fare Cabin Embarked  \n",
       "0  34.5      0      0   330911   7.8292   NaN        Q  \n",
       "1  47.0      1      0   363272   7.0000   NaN        S  \n",
       "2  62.0      0      0   240276   9.6875   NaN        Q  \n",
       "3  27.0      0      0   315154   8.6625   NaN        S  \n",
       "4  22.0      1      1  3101298  12.2875   NaN        S  "
      ]
     },
     "execution_count": 5,
     "metadata": {},
     "output_type": "execute_result"
    }
   ],
   "source": [
    "titanic_test.head(5)"
   ]
  },
  {
   "cell_type": "code",
   "execution_count": 6,
   "id": "feea94f9-5b37-4dd1-ba28-5eb76b5371c4",
   "metadata": {},
   "outputs": [
    {
     "name": "stdout",
     "output_type": "stream",
     "text": [
      "Test Info\n",
      "\n",
      "(418, 11)\n",
      "\n",
      "PassengerId      0\n",
      "Pclass           0\n",
      "Name             0\n",
      "Sex              0\n",
      "Age             86\n",
      "SibSp            0\n",
      "Parch            0\n",
      "Ticket           0\n",
      "Fare             1\n",
      "Cabin          327\n",
      "Embarked         0\n",
      "dtype: int64\n"
     ]
    }
   ],
   "source": [
    "print(\"Test Info\")\n",
    "print(\"\")\n",
    "print(titanic_test.shape)\n",
    "print(\"\")\n",
    "print(titanic_test.isna().sum())"
   ]
  },
  {
   "cell_type": "markdown",
   "id": "d9b237ec-314e-4d8a-a58a-7aa144ec1cf7",
   "metadata": {},
   "source": [
    "# Attempt 1 "
   ]
  },
  {
   "cell_type": "code",
   "execution_count": 7,
   "id": "4d162843-d4ef-4ef8-b186-9e075499cbba",
   "metadata": {},
   "outputs": [],
   "source": [
    "titanic_train = titanic_train.drop('Cabin',axis=1)\n",
    "titanic_test = titanic_test.drop('Cabin',axis=1)"
   ]
  },
  {
   "cell_type": "code",
   "execution_count": 8,
   "id": "36367008-5de8-4a36-b31f-08d14bb6d56b",
   "metadata": {},
   "outputs": [
    {
     "name": "stdout",
     "output_type": "stream",
     "text": [
      "PassengerId    0\n",
      "Survived       0\n",
      "Pclass         0\n",
      "Name           0\n",
      "Sex            0\n",
      "Age            0\n",
      "SibSp          0\n",
      "Parch          0\n",
      "Ticket         0\n",
      "Fare           0\n",
      "Embarked       0\n",
      "dtype: int64\n",
      "\n",
      "PassengerId    0\n",
      "Pclass         0\n",
      "Name           0\n",
      "Sex            0\n",
      "Age            0\n",
      "SibSp          0\n",
      "Parch          0\n",
      "Ticket         0\n",
      "Fare           0\n",
      "Embarked       0\n",
      "dtype: int64\n"
     ]
    }
   ],
   "source": [
    "titanic_train.Age.fillna(titanic_train.Age.mean(), inplace=True)\n",
    "titanic_test.Age.fillna(titanic_test.Age.mean(), inplace=True)\n",
    "titanic_train = titanic_train.dropna(subset=['Embarked'])\n",
    "titanic_test.Fare.fillna(titanic_test.Fare.mean(), inplace=True)\n",
    "\n",
    "print(titanic_train.isna().sum())\n",
    "print(\"\")\n",
    "print(titanic_test.isna().sum())"
   ]
  },
  {
   "cell_type": "code",
   "execution_count": 9,
   "id": "851f6ffe-0f81-42c7-928c-8c027598af42",
   "metadata": {},
   "outputs": [
    {
     "data": {
      "text/plain": [
       "0.38245219347581555"
      ]
     },
     "execution_count": 9,
     "metadata": {},
     "output_type": "execute_result"
    }
   ],
   "source": [
    "titanic_train.Survived.mean()"
   ]
  },
  {
   "cell_type": "code",
   "execution_count": 10,
   "id": "8f6c5824-2b3f-45f7-b238-c48d1f0e25b0",
   "metadata": {},
   "outputs": [
    {
     "name": "stdout",
     "output_type": "stream",
     "text": [
      "0.7572593938535183\n"
     ]
    }
   ],
   "source": [
    "train, val = train_test_split(titanic_train, test_size=0.2)\n",
    "\n",
    "Pclass_train = pd.get_dummies(train.Pclass, drop_first=True)\n",
    "Sex_train = pd.get_dummies(train.Sex, drop_first=True)\n",
    "\n",
    "Pclass_val = pd.get_dummies(val.Pclass, drop_first=True)\n",
    "Sex_val = pd.get_dummies(val.Sex, drop_first=True)\n",
    "\n",
    "Pclass_test = pd.get_dummies(titanic_test.Pclass, drop_first=True)\n",
    "Sex_test = pd.get_dummies(titanic_test.Sex, drop_first=True)\n",
    "\n",
    "train_x = pd.concat((train[['Age','SibSp','Parch','Fare']], Pclass_train, Sex_train), axis=1)\n",
    "train_y = train.Survived\n",
    "\n",
    "val_x = pd.concat((val[['Age','SibSp','Parch','Fare']], Pclass_val, Sex_val), axis=1)\n",
    "val_y = val.Survived\n",
    "\n",
    "test = pd.concat((titanic_test[['Age','SibSp','Parch','Fare']], Pclass_test, Sex_test), axis=1)\n",
    "\n",
    "scaler = StandardScaler()\n",
    "scaler.fit(train_x)\n",
    "train_x = scaler.transform(train_x)\n",
    "val_x = scaler.transform(val_x)\n",
    "test = scaler.transform(test)\n",
    "\n",
    "cv_score = cross_val_score(LogisticRegression(), train_x, train_y, scoring='precision', cv=10).mean()\n",
    "print(cv_score)"
   ]
  },
  {
   "cell_type": "code",
   "execution_count": 11,
   "id": "ee5020bd-c3b1-42eb-85fb-dec6214feb50",
   "metadata": {},
   "outputs": [
    {
     "name": "stdout",
     "output_type": "stream",
     "text": [
      "Training Precision 0.6653992395437263\n",
      "Training Accuracy 0.8002812939521801\n",
      "\n",
      "Validation Precision 0.7662337662337663\n",
      "Validation Accuracy 0.8089887640449438\n"
     ]
    }
   ],
   "source": [
    "model = LogisticRegression().fit(train_x, train_y)\n",
    "train_predictions = model.predict(train_x)\n",
    "val_predictions = model.predict(val_x)\n",
    "print('Training Precision', precision_score(train_predictions, train_y))\n",
    "print('Training Accuracy', accuracy_score(train_predictions, train_y))\n",
    "print(\"\")\n",
    "print('Validation Precision', precision_score(val_predictions, val_y))\n",
    "print('Validation Accuracy', accuracy_score(val_predictions, val_y))"
   ]
  },
  {
   "cell_type": "code",
   "execution_count": 12,
   "id": "f54954c3-e3a6-4eb1-b924-fe1c9d01bf47",
   "metadata": {},
   "outputs": [],
   "source": [
    "test_predictions = model.predict(test)\n",
    "test_predictions = test_predictions.astype(int)\n",
    "\n",
    "df_test = pd.read_csv(\"test.csv\")\n",
    "to_save = df_test[['PassengerId']].copy()\n",
    "to_save.loc[:, 'Survived'] = test_predictions\n",
    "to_save.to_csv('titanic_submission.csv', index=False)"
   ]
  },
  {
   "cell_type": "markdown",
   "id": "0e29647c-1c1a-4017-910f-25189ef229e0",
   "metadata": {},
   "source": [
    "# Attempt 2 (Testing Embarked Column)"
   ]
  },
  {
   "cell_type": "code",
   "execution_count": 13,
   "id": "a656d565-79e6-4567-a527-9067a9a70f54",
   "metadata": {},
   "outputs": [],
   "source": [
    "titanic_train = pd.read_csv(\"train.csv\")\n",
    "titanic_test = pd.read_csv(\"test.csv\")"
   ]
  },
  {
   "cell_type": "code",
   "execution_count": 14,
   "id": "b36d6ed4-1094-4211-bd43-8c6611e3301c",
   "metadata": {},
   "outputs": [],
   "source": [
    "titanic_train = titanic_train.drop('Cabin',axis=1)\n",
    "titanic_test = titanic_test.drop('Cabin',axis=1)\n",
    "\n",
    "titanic_train = titanic_train.drop('PassengerId',axis=1)\n",
    "titanic_test = titanic_test.drop('PassengerId',axis=1)\n",
    "\n",
    "titanic_train = titanic_train.drop('Name',axis=1)\n",
    "titanic_test = titanic_test.drop('Name',axis=1)\n",
    "\n",
    "titanic_train = titanic_train.drop('Ticket',axis=1)\n",
    "titanic_test = titanic_test.drop('Ticket',axis=1)"
   ]
  },
  {
   "cell_type": "code",
   "execution_count": 15,
   "id": "c0d4d99c-1e75-448f-875b-eac31b11db0b",
   "metadata": {},
   "outputs": [
    {
     "name": "stdout",
     "output_type": "stream",
     "text": [
      "Survived    0\n",
      "Pclass      0\n",
      "Sex         0\n",
      "Age         0\n",
      "SibSp       0\n",
      "Parch       0\n",
      "Fare        0\n",
      "Embarked    0\n",
      "dtype: int64\n",
      "\n",
      "Pclass      0\n",
      "Sex         0\n",
      "Age         0\n",
      "SibSp       0\n",
      "Parch       0\n",
      "Fare        0\n",
      "Embarked    0\n",
      "dtype: int64\n"
     ]
    }
   ],
   "source": [
    "titanic_train = titanic_train.dropna(subset=['Age'])\n",
    "titanic_test.fillna(titanic_test.Age.mean(), inplace=True)\n",
    "\n",
    "titanic_train = titanic_train.dropna(subset=['Embarked'])\n",
    "titanic_test.Fare.fillna(titanic_test.Fare.mean(), inplace=True)\n",
    "\n",
    "print(titanic_train.isna().sum())\n",
    "print(\"\")\n",
    "print(titanic_test.isna().sum())"
   ]
  },
  {
   "cell_type": "code",
   "execution_count": 16,
   "id": "c3baeaf4-dc5a-488b-b91e-06cef41a8691",
   "metadata": {},
   "outputs": [
    {
     "name": "stdout",
     "output_type": "stream",
     "text": [
      "0.7696091505113244\n"
     ]
    }
   ],
   "source": [
    "train, val = train_test_split(titanic_train, test_size=0.2)\n",
    "\n",
    "Pclass_train = pd.get_dummies(train.Pclass, drop_first=True)\n",
    "Sex_train = pd.get_dummies(train.Sex, drop_first=True)\n",
    "Embarked_train = pd.get_dummies(train.Embarked, drop_first=True)\n",
    "\n",
    "Pclass_val = pd.get_dummies(val.Pclass, drop_first=True)\n",
    "Sex_val = pd.get_dummies(val.Sex, drop_first=True)\n",
    "Embarked_val = pd.get_dummies(val.Embarked, drop_first=True)\n",
    "\n",
    "Pclass_test = pd.get_dummies(titanic_test.Pclass, drop_first=True)\n",
    "Sex_test = pd.get_dummies(titanic_test.Sex, drop_first=True)\n",
    "Embarked_test = pd.get_dummies(titanic_test.Embarked, drop_first=True)\n",
    "\n",
    "## With embarked\n",
    "\n",
    "train_x_with_em = pd.concat((train[['Age','SibSp','Parch','Fare']], Pclass_train, Sex_train, Embarked_train), axis=1)\n",
    "train_y_with_em = train.Survived\n",
    "\n",
    "val_x_with_em = pd.concat((val[['Age','SibSp','Parch','Fare']], Pclass_val, Sex_val, Embarked_val), axis=1)\n",
    "val_y_with_em = val.Survived\n",
    "\n",
    "test_with_em = pd.concat((titanic_test[['Age','SibSp','Parch','Fare']], Pclass_test, Sex_test, Embarked_test), axis=1)\n",
    "\n",
    "scaler = StandardScaler()\n",
    "scaler.fit(train_x_with_em)\n",
    "train_x_with_em = scaler.transform(train_x_with_em)\n",
    "val_x_with_em = scaler.transform(val_x_with_em)\n",
    "test_with_em = scaler.transform(test_with_em)\n",
    "\n",
    "cv_scores = []\n",
    "for i in range(10):\n",
    "    cv_score = cross_val_score(LogisticRegression(), train_x_with_em, train_y_with_em, scoring='precision', cv=10).mean()\n",
    "    cv_scores.append(cv_score)\n",
    "print(np.mean(cv_scores))"
   ]
  },
  {
   "cell_type": "code",
   "execution_count": 17,
   "id": "bee6c7e6-2ab0-4665-8461-bbbfb8ec9c87",
   "metadata": {},
   "outputs": [
    {
     "name": "stdout",
     "output_type": "stream",
     "text": [
      "0.7765055755330355\n"
     ]
    }
   ],
   "source": [
    "## Without embarked\n",
    "\n",
    "train_x = pd.concat((train[['Age','SibSp','Parch','Fare']], Pclass_train, Sex_train), axis=1)\n",
    "train_y = train.Survived\n",
    "\n",
    "val_x = pd.concat((val[['Age','SibSp','Parch','Fare']], Pclass_val, Sex_val), axis=1)\n",
    "val_y = val.Survived\n",
    "\n",
    "test = pd.concat((titanic_test[['Age','SibSp','Parch','Fare']], Pclass_test, Sex_test), axis=1)\n",
    "\n",
    "scaler = StandardScaler()\n",
    "scaler.fit(train_x)\n",
    "train_x = scaler.transform(train_x)\n",
    "val_x = scaler.transform(val_x)\n",
    "test = scaler.transform(test)\n",
    "\n",
    "cv_scores = []\n",
    "for i in range(10):\n",
    "    cv_score = cross_val_score(LogisticRegression(), train_x, train_y, scoring='precision', cv=10).mean()\n",
    "    cv_scores.append(cv_score)\n",
    "print(np.mean(cv_scores))"
   ]
  },
  {
   "cell_type": "code",
   "execution_count": 18,
   "id": "8dd24d25-2819-4c9a-88c8-dcafbb542212",
   "metadata": {},
   "outputs": [
    {
     "name": "stdout",
     "output_type": "stream",
     "text": [
      "Training Precision 0.7292576419213974\n",
      "Training Accuracy 0.8101933216168717\n",
      "\n",
      "Validation Precision 0.6440677966101694\n",
      "Validation Accuracy 0.7972027972027972\n"
     ]
    }
   ],
   "source": [
    "## With embarked\n",
    "\n",
    "model_with_em = LogisticRegression().fit(train_x_with_em, train_y_with_em)\n",
    "train_predictions_with_em = model_with_em.predict(train_x_with_em)\n",
    "val_predictions_with_em = model_with_em.predict(val_x_with_em)\n",
    "\n",
    "print('Training Precision', precision_score(train_predictions_with_em, train_y_with_em))\n",
    "print('Training Accuracy', accuracy_score(train_predictions_with_em, train_y_with_em))\n",
    "print(\"\")\n",
    "print('Validation Precision', precision_score(val_predictions_with_em, val_y_with_em))\n",
    "print('Validation Accuracy', accuracy_score(val_predictions_with_em, val_y_with_em))"
   ]
  },
  {
   "cell_type": "code",
   "execution_count": 19,
   "id": "093cff99-4422-48ce-bc8b-8cb9acafb85d",
   "metadata": {},
   "outputs": [],
   "source": [
    "test_predictions_with_em = model_with_em.predict(test_with_em)\n",
    "test_predictions_with_em = test_predictions_with_em.astype(int)\n",
    "\n",
    "df_test = pd.read_csv(\"test.csv\")\n",
    "to_save = df_test[['PassengerId']].copy()\n",
    "to_save.loc[:, 'Survived'] = test_predictions_with_em\n",
    "to_save.to_csv('titanic_submission.csv', index=False)"
   ]
  },
  {
   "cell_type": "code",
   "execution_count": 20,
   "id": "a81a0e5d-a115-4457-b678-9d65ebb30119",
   "metadata": {},
   "outputs": [
    {
     "name": "stdout",
     "output_type": "stream",
     "text": [
      "Training Precision 0.7510917030567685\n",
      "Training Accuracy 0.8189806678383128\n",
      "\n",
      "Validation Precision 0.6610169491525424\n",
      "Validation Accuracy 0.7902097902097902\n"
     ]
    }
   ],
   "source": [
    "# Without embarked\n",
    "\n",
    "model = LogisticRegression().fit(train_x, train_y)\n",
    "train_predictions = model.predict(train_x)\n",
    "val_predictions = model.predict(val_x)\n",
    "print('Training Precision', precision_score(train_predictions, train_y))\n",
    "print('Training Accuracy', accuracy_score(train_predictions, train_y))\n",
    "print(\"\")\n",
    "print('Validation Precision', precision_score(val_predictions, val_y))\n",
    "print('Validation Accuracy', accuracy_score(val_predictions, val_y))"
   ]
  },
  {
   "cell_type": "code",
   "execution_count": 21,
   "id": "68ddbeba-2799-4ac7-ace8-15dd466ba2d4",
   "metadata": {},
   "outputs": [],
   "source": [
    "test_predictions = model.predict(test)\n",
    "test_predictions = test_predictions.astype(int)\n",
    "\n",
    "df_test = pd.read_csv(\"test.csv\")\n",
    "to_save = df_test[['PassengerId']].copy()\n",
    "to_save.loc[:, 'Survived'] = test_predictions\n",
    "to_save.to_csv('titanic_submission.csv', index=False)"
   ]
  },
  {
   "cell_type": "markdown",
   "id": "d88c3f0c-497e-4d63-890d-7dc907f2e083",
   "metadata": {},
   "source": [
    "# Attempt 3 (Utilize L2 Penalty and GridSearchCV)"
   ]
  },
  {
   "cell_type": "code",
   "execution_count": 22,
   "id": "3cff2ac4-62c9-4d18-96e6-f63fa951bbab",
   "metadata": {},
   "outputs": [],
   "source": [
    "titanic_train = pd.read_csv(\"train.csv\")\n",
    "titanic_test = pd.read_csv(\"test.csv\")"
   ]
  },
  {
   "cell_type": "code",
   "execution_count": 23,
   "id": "774c9973-402e-411f-89fe-c8d2801ef2b4",
   "metadata": {},
   "outputs": [],
   "source": [
    "titanic_train = titanic_train.drop(columns = ['Cabin', 'PassengerId', 'Name', 'Ticket'], axis=1)\n",
    "titanic_test = titanic_test.drop(columns = ['Cabin', 'PassengerId', 'Name', 'Ticket'], axis=1)"
   ]
  },
  {
   "cell_type": "code",
   "execution_count": 24,
   "id": "aede04fe-4bed-4be6-a1bb-3f4d791ba17a",
   "metadata": {},
   "outputs": [
    {
     "name": "stdout",
     "output_type": "stream",
     "text": [
      "Survived    0\n",
      "Pclass      0\n",
      "Sex         0\n",
      "Age         0\n",
      "SibSp       0\n",
      "Parch       0\n",
      "Fare        0\n",
      "Embarked    0\n",
      "dtype: int64\n",
      "\n",
      "Pclass      0\n",
      "Sex         0\n",
      "Age         0\n",
      "SibSp       0\n",
      "Parch       0\n",
      "Fare        0\n",
      "Embarked    0\n",
      "dtype: int64\n"
     ]
    }
   ],
   "source": [
    "titanic_train = titanic_train.dropna(subset=['Age'])\n",
    "titanic_test.fillna(titanic_test.Age.mean(), inplace=True)\n",
    "\n",
    "titanic_train = titanic_train.dropna(subset=['Embarked'])\n",
    "titanic_test.Fare.fillna(titanic_test.Fare.mean(), inplace=True)\n",
    "\n",
    "print(titanic_train.isna().sum())\n",
    "print(\"\")\n",
    "print(titanic_test.isna().sum())"
   ]
  },
  {
   "cell_type": "code",
   "execution_count": 25,
   "id": "037f1f2b-e564-4fe7-bdf4-10105f067a99",
   "metadata": {},
   "outputs": [],
   "source": [
    "train, val = train_test_split(titanic_train, test_size=0.2)\n",
    "\n",
    "features = list(titanic_test.columns)\n",
    "\n",
    "Pclass_train = pd.get_dummies(train.Pclass, drop_first=True)\n",
    "Sex_train = pd.get_dummies(train.Sex, drop_first=True)\n",
    "Embarked_train = pd.get_dummies(train.Embarked, drop_first=True)\n",
    "train_x = pd.concat((train[['Age','SibSp','Parch','Fare']], Pclass_train, Sex_train, Embarked_train),axis=1)\n",
    "train_y = train.Survived\n",
    "scaler = StandardScaler()\n",
    "scaler.fit(train_x)\n",
    "train_x = scaler.transform(train_x)\n",
    "\n",
    "Pclass_val = pd.get_dummies(val.Pclass, drop_first=True)\n",
    "Sex_val = pd.get_dummies(val.Sex, drop_first=True)\n",
    "Embarked_val = pd.get_dummies(val.Embarked, drop_first=True)\n",
    "val_x = pd.concat((val[['Age','SibSp','Parch','Fare']], Pclass_val, Sex_val, Embarked_val), axis=1)\n",
    "val_y = val.Survived\n",
    "val_x = scaler.transform(val_x)\n",
    "\n",
    "Pclass_test = pd.get_dummies(titanic_test.Pclass, drop_first=True)\n",
    "Sex_test = pd.get_dummies(titanic_test.Sex, drop_first=True)\n",
    "Embarked_test = pd.get_dummies(titanic_test.Embarked, drop_first=True)\n",
    "test = pd.concat((titanic_test[['Age','SibSp','Parch','Fare']], Pclass_test, Sex_test, Embarked_test), axis=1)\n",
    "test = scaler.transform(test)"
   ]
  },
  {
   "cell_type": "code",
   "execution_count": 26,
   "id": "ded9f7d1-2fbb-4bfe-afa3-0f5671650d2a",
   "metadata": {},
   "outputs": [
    {
     "name": "stdout",
     "output_type": "stream",
     "text": [
      "{'C': 0.5779692884153314, 'penalty': 'l2'}\n",
      "0.7908834586466166\n"
     ]
    }
   ],
   "source": [
    "grid = {\"C\":np.logspace(-5,5,22,base=10),\"penalty\":['l2']}\n",
    "model = LogisticRegression()\n",
    "model_cv = GridSearchCV(model,grid,cv=10)\n",
    "model_cv.fit(train_x,train_y)\n",
    "\n",
    "print(model_cv.best_params_)\n",
    "print(model_cv.best_score_)"
   ]
  },
  {
   "cell_type": "code",
   "execution_count": 27,
   "id": "a1c1fd66-0b28-48d1-a5f2-8853c4077211",
   "metadata": {},
   "outputs": [
    {
     "data": {
      "text/plain": [
       "0.8251748251748252"
      ]
     },
     "execution_count": 27,
     "metadata": {},
     "output_type": "execute_result"
    }
   ],
   "source": [
    "accuracy_score(val_y,model_cv.predict(val_x))"
   ]
  },
  {
   "cell_type": "code",
   "execution_count": 28,
   "id": "b9767b85-31c6-4197-b2f8-a4b5cc2ba6d3",
   "metadata": {},
   "outputs": [],
   "source": [
    "test_predictions = model_cv.predict(test)\n",
    "test_predictions = test_predictions.astype(int)\n",
    "\n",
    "df_test = pd.read_csv(\"test.csv\")\n",
    "to_save = df_test[['PassengerId']].copy()\n",
    "to_save.loc[:, 'Survived'] = test_predictions\n",
    "to_save.to_csv('titanic_submission.csv', index=False)"
   ]
  },
  {
   "cell_type": "markdown",
   "id": "4ec7a5d9-0031-43c0-87ae-e55f97acbaf9",
   "metadata": {},
   "source": [
    "# Attempt 4 (Utilize L2 Penalty and GridSearchCV, without Splitting Training)"
   ]
  },
  {
   "cell_type": "code",
   "execution_count": 29,
   "id": "2cc5d719-17dc-4573-a2a5-9c86e6b3044f",
   "metadata": {},
   "outputs": [],
   "source": [
    "titanic_train = pd.read_csv(\"train.csv\")\n",
    "titanic_test = pd.read_csv(\"test.csv\")"
   ]
  },
  {
   "cell_type": "code",
   "execution_count": 30,
   "id": "2ad7258f-eeee-4df8-82a7-b3d8da6a785f",
   "metadata": {},
   "outputs": [],
   "source": [
    "titanic_train = titanic_train.drop(columns = ['Cabin', 'PassengerId', 'Name', 'Ticket'], axis=1)\n",
    "titanic_test = titanic_test.drop(columns = ['Cabin', 'PassengerId', 'Name', 'Ticket'], axis=1)"
   ]
  },
  {
   "cell_type": "code",
   "execution_count": 31,
   "id": "85662c5c-feb9-48cb-9867-a460fd5e0496",
   "metadata": {},
   "outputs": [
    {
     "name": "stdout",
     "output_type": "stream",
     "text": [
      "Survived    0\n",
      "Pclass      0\n",
      "Sex         0\n",
      "Age         0\n",
      "SibSp       0\n",
      "Parch       0\n",
      "Fare        0\n",
      "Embarked    0\n",
      "dtype: int64\n",
      "\n",
      "Pclass      0\n",
      "Sex         0\n",
      "Age         0\n",
      "SibSp       0\n",
      "Parch       0\n",
      "Fare        0\n",
      "Embarked    0\n",
      "dtype: int64\n"
     ]
    }
   ],
   "source": [
    "titanic_train = titanic_train.dropna(subset=['Age'])\n",
    "titanic_test.fillna(titanic_test.Age.mean(), inplace=True)\n",
    "\n",
    "titanic_train = titanic_train.dropna(subset=['Embarked'])\n",
    "titanic_test.Fare.fillna(titanic_test.Fare.mean(), inplace=True)\n",
    "\n",
    "print(titanic_train.isna().sum())\n",
    "print(\"\")\n",
    "print(titanic_test.isna().sum())"
   ]
  },
  {
   "cell_type": "code",
   "execution_count": 32,
   "id": "27dcbc1e-357d-4af0-b6c5-942c6d44fa31",
   "metadata": {},
   "outputs": [],
   "source": [
    "Pclass_train = pd.get_dummies(titanic_train.Pclass, drop_first=True)\n",
    "Sex_train = pd.get_dummies(titanic_train.Sex, drop_first=True)\n",
    "Embarked_train = pd.get_dummies(titanic_train.Embarked, drop_first=True)\n",
    "train_x = pd.concat((titanic_train[['Age','SibSp','Parch','Fare']], Pclass_train, Sex_train, Embarked_train),axis=1)\n",
    "train_y = titanic_train.Survived\n",
    "scaler = StandardScaler()\n",
    "scaler.fit(train_x)\n",
    "train_x = scaler.transform(train_x)\n",
    "\n",
    "Pclass_test = pd.get_dummies(titanic_test.Pclass, drop_first=True)\n",
    "Sex_test = pd.get_dummies(titanic_test.Sex, drop_first=True)\n",
    "Embarked_test = pd.get_dummies(titanic_test.Embarked, drop_first=True)\n",
    "test = pd.concat((titanic_test[['Age','SibSp','Parch','Fare']], Pclass_test, Sex_test, Embarked_test), axis=1)\n",
    "test = scaler.transform(test)"
   ]
  },
  {
   "cell_type": "code",
   "execution_count": 33,
   "id": "7d928a72-4e87-4272-b161-10721b01fa4e",
   "metadata": {},
   "outputs": [
    {
     "name": "stdout",
     "output_type": "stream",
     "text": [
      "{'C': 0.1, 'penalty': 'l2'}\n",
      "0.7936424100156494\n"
     ]
    }
   ],
   "source": [
    "grid = {'C':np.logspace(-5,5,11,base=10),'penalty':['l2']}\n",
    "model = LogisticRegression()\n",
    "model_cv = GridSearchCV(model,grid,cv=10)\n",
    "model_cv.fit(train_x,train_y)\n",
    "\n",
    "print(model_cv.best_params_)\n",
    "print(model_cv.best_score_)"
   ]
  },
  {
   "cell_type": "code",
   "execution_count": 34,
   "id": "0fe88069-614b-4c4d-84f8-593ec448f3d9",
   "metadata": {},
   "outputs": [],
   "source": [
    "test_predictions = model_cv.predict(test)\n",
    "test_predictions = test_predictions.astype(int)\n",
    "\n",
    "df_test = pd.read_csv(\"test.csv\")\n",
    "to_save = df_test[['PassengerId']].copy()\n",
    "to_save.loc[:, 'Survived'] = test_predictions\n",
    "to_save.to_csv('titanic_submission.csv', index=False)"
   ]
  },
  {
   "cell_type": "markdown",
   "id": "e759f740-bde6-4f89-8830-74a5d8657f1b",
   "metadata": {},
   "source": [
    "# Attempt 5 (Manually Find Best Regularization Penalty)"
   ]
  },
  {
   "cell_type": "code",
   "execution_count": 35,
   "id": "11bc21fd-9ae6-469e-8151-2177653607c7",
   "metadata": {},
   "outputs": [],
   "source": [
    "titanic_train = pd.read_csv('train.csv')\n",
    "titanic_test = pd.read_csv('test.csv')"
   ]
  },
  {
   "cell_type": "code",
   "execution_count": 36,
   "id": "d521d978-a078-4e91-9b45-d9d9b7648a77",
   "metadata": {},
   "outputs": [],
   "source": [
    "titanic_train = titanic_train.drop(columns = ['Cabin', 'PassengerId', 'Name', 'Ticket'], axis=1)\n",
    "titanic_test = titanic_test.drop(columns = ['Cabin', 'PassengerId', 'Name', 'Ticket'], axis=1)"
   ]
  },
  {
   "cell_type": "code",
   "execution_count": 37,
   "id": "06120338-c451-412e-a996-b22212e622d6",
   "metadata": {},
   "outputs": [
    {
     "name": "stdout",
     "output_type": "stream",
     "text": [
      "Survived    0\n",
      "Pclass      0\n",
      "Sex         0\n",
      "Age         0\n",
      "SibSp       0\n",
      "Parch       0\n",
      "Fare        0\n",
      "Embarked    0\n",
      "dtype: int64\n",
      "\n",
      "Pclass      0\n",
      "Sex         0\n",
      "Age         0\n",
      "SibSp       0\n",
      "Parch       0\n",
      "Fare        0\n",
      "Embarked    0\n",
      "dtype: int64\n"
     ]
    }
   ],
   "source": [
    "titanic_train = titanic_train.dropna(subset=['Age'])\n",
    "titanic_test.fillna(titanic_test.Age.mean(), inplace=True)\n",
    "\n",
    "titanic_train = titanic_train.dropna(subset=['Embarked'])\n",
    "titanic_test.Fare.fillna(titanic_test.Fare.mean(), inplace=True)\n",
    "\n",
    "print(titanic_train.isna().sum())\n",
    "print(\"\")\n",
    "print(titanic_test.isna().sum())"
   ]
  },
  {
   "cell_type": "code",
   "execution_count": 38,
   "id": "75ab8a56-5df9-410b-a8a7-b0f78d9ba3c2",
   "metadata": {},
   "outputs": [],
   "source": [
    "train, val = train_test_split(titanic_train,test_size=0.2)\n",
    "\n",
    "Pclass_train = pd.get_dummies(train.Pclass, drop_first=True)\n",
    "Sex_train = pd.get_dummies(train.Sex, drop_first=True)\n",
    "Embarked_train = pd.get_dummies(train.Embarked, drop_first=True)\n",
    "train_x = pd.concat((train[['Age','SibSp','Parch','Fare']],Pclass_train,Sex_train,Embarked_train),axis=1)\n",
    "train_y = train.Survived\n",
    "scaler = StandardScaler()\n",
    "scaler.fit(train_x)\n",
    "train_x = scaler.transform(train_x)\n",
    "\n",
    "Pclass_val = pd.get_dummies(val.Pclass, drop_first=True)\n",
    "Sex_val = pd.get_dummies(val.Sex, drop_first=True)\n",
    "Embarked_val = pd.get_dummies(val.Embarked, drop_first=True)\n",
    "val_x = pd.concat((val[['Age','SibSp','Parch','Fare']],Pclass_val,Sex_val,Embarked_val),axis=1)\n",
    "val_y = val.Survived\n",
    "val_x = scaler.transform(val_x)\n",
    "\n",
    "Pclass_test = pd.get_dummies(titanic_test.Pclass, drop_first=True)\n",
    "Sex_test = pd.get_dummies(titanic_test.Sex, drop_first=True)\n",
    "Embarked_test = pd.get_dummies(titanic_test.Embarked, drop_first=True)\n",
    "test = pd.concat((titanic_test[['Age','SibSp','Parch','Fare']], Pclass_test, Sex_test, Embarked_test), axis=1)\n",
    "test = scaler.transform(test)"
   ]
  },
  {
   "cell_type": "code",
   "execution_count": 39,
   "id": "8d7f0a96-57de-4236-b6d0-1e8cb37d96dd",
   "metadata": {},
   "outputs": [],
   "source": [
    "data = []\n",
    "for reg_coef in np.logspace(-5,5,10,base=10):\n",
    "    model = LogisticRegression(C = 1/reg_coef)\n",
    "    model.fit(train_x,train_y)\n",
    "    train_acc = accuracy_score(model.predict(train_x),train_y)\n",
    "    val_acc = accuracy_score(model.predict(val_x),val_y)\n",
    "    data.append({\n",
    "        'model': model,\n",
    "        'reg_coef': reg_coef,\n",
    "        'train_accuracy': train_acc,\n",
    "        'validation_accuracy': val_acc\n",
    "    })\n",
    "    \n",
    "models = pd.DataFrame(data)"
   ]
  },
  {
   "cell_type": "code",
   "execution_count": 40,
   "id": "06ffea14-203b-4d51-97ce-9ae12313c906",
   "metadata": {},
   "outputs": [
    {
     "data": {
      "image/png": "[encoded data removed]",
      "text/plain": [
       "<Figure size 432x288 with 1 Axes>"
      ]
     },
     "metadata": {
      "needs_background": "light"
     },
     "output_type": "display_data"
    }
   ],
   "source": [
    "_ = plt.plot(models.reg_coef,models.train_accuracy,'b-^',label='Training',)\n",
    "_ = plt.plot(models.reg_coef,models.validation_accuracy,'r-o',label='Validation')\n",
    "_ = plt.legend()\n",
    "_ = plt.xscale('log')\n",
    "_ = plt.xlabel('Regularization Coefficient')\n",
    "_ = plt.ylabel('Accuracy')\n",
    "plt.show()"
   ]
  },
  {
   "cell_type": "code",
   "execution_count": 41,
   "id": "5848bb7c-e74c-4f06-b032-9395ce612a53",
   "metadata": {},
   "outputs": [],
   "source": [
    "best_model_index = models.validation_accuracy.idxmax()\n",
    "best_model_row = models.iloc[best_model_index]\n",
    "best_model = best_model_row.model\n",
    "\n",
    "test_predictions = best_model.predict(test)\n",
    "test_predictions = test_predictions.astype(int)\n",
    "\n",
    "df_test = pd.read_csv(\"test.csv\")\n",
    "to_save = df_test[['PassengerId']].copy()\n",
    "to_save.loc[:, 'Survived'] = test_predictions\n",
    "to_save.to_csv('titanic_submission.csv', index=False)"
   ]
  },
  {
   "cell_type": "markdown",
   "id": "37c9b549-49d0-4ea2-8a33-a5d71a9f4b8a",
   "metadata": {},
   "source": [
    "# Attempt 6 (With Decision Tree)"
   ]
  },
  {
   "cell_type": "code",
   "execution_count": 42,
   "id": "3a0dacef-ebf0-46ee-933e-7f23e00acaf5",
   "metadata": {},
   "outputs": [],
   "source": [
    "titanic_train = pd.read_csv(\"train.csv\")\n",
    "titanic_test = pd.read_csv(\"test.csv\")"
   ]
  },
  {
   "cell_type": "code",
   "execution_count": 43,
   "id": "f9855b20-d5d9-4606-b028-d53370b6b23b",
   "metadata": {},
   "outputs": [],
   "source": [
    "titanic_train = titanic_train.drop(columns = ['Cabin', 'PassengerId', 'Name', 'Ticket'], axis=1)\n",
    "titanic_test = titanic_test.drop(columns = ['Cabin', 'PassengerId', 'Name', 'Ticket'], axis=1)"
   ]
  },
  {
   "cell_type": "code",
   "execution_count": 44,
   "id": "720499fd-6d31-4c47-990a-12e6a4205160",
   "metadata": {},
   "outputs": [
    {
     "name": "stdout",
     "output_type": "stream",
     "text": [
      "Survived    0\n",
      "Pclass      0\n",
      "Sex         0\n",
      "Age         0\n",
      "SibSp       0\n",
      "Parch       0\n",
      "Fare        0\n",
      "Embarked    0\n",
      "dtype: int64\n",
      "\n",
      "Pclass      0\n",
      "Sex         0\n",
      "Age         0\n",
      "SibSp       0\n",
      "Parch       0\n",
      "Fare        0\n",
      "Embarked    0\n",
      "dtype: int64\n"
     ]
    }
   ],
   "source": [
    "titanic_train = titanic_train.dropna(subset=['Age'])\n",
    "titanic_test.fillna(titanic_test.Age.mean(), inplace=True)\n",
    "\n",
    "titanic_train = titanic_train.dropna(subset=['Embarked'])\n",
    "titanic_test.Fare.fillna(titanic_test.Fare.mean(), inplace=True)\n",
    "\n",
    "print(titanic_train.isna().sum())\n",
    "print(\"\")\n",
    "print(titanic_test.isna().sum())"
   ]
  },
  {
   "cell_type": "code",
   "execution_count": 45,
   "id": "a793c567-f488-410e-a96d-b401ced1794d",
   "metadata": {},
   "outputs": [],
   "source": [
    "Pclass_train = pd.get_dummies(titanic_train.Pclass, drop_first=True)\n",
    "Sex_train = pd.get_dummies(titanic_train.Sex, drop_first=True)\n",
    "Embarked_train = pd.get_dummies(titanic_train.Embarked, drop_first=True)\n",
    "train_x = pd.concat((titanic_train[['Age','SibSp','Parch','Fare']], Pclass_train, Sex_train, Embarked_train),axis=1)\n",
    "train_y = titanic_train.Survived\n",
    "\n",
    "Pclass_test = pd.get_dummies(titanic_test.Pclass, drop_first=True)\n",
    "Sex_test = pd.get_dummies(titanic_test.Sex, drop_first=True)\n",
    "Embarked_test = pd.get_dummies(titanic_test.Embarked, drop_first=True)\n",
    "test = pd.concat((titanic_test[['Age','SibSp','Parch','Fare']], Pclass_test, Sex_test, Embarked_test), axis=1)"
   ]
  },
  {
   "cell_type": "code",
   "execution_count": 46,
   "id": "3f8fef29-1a48-49b7-9a74-cb60f47be906",
   "metadata": {},
   "outputs": [
    {
     "name": "stdout",
     "output_type": "stream",
     "text": [
      "{'max_depth': 5, 'min_samples_leaf': 1}\n",
      "0.8104264475743349\n"
     ]
    }
   ],
   "source": [
    "hyperparameters = {'min_samples_leaf': [1,10,50,100,200,300],\n",
    "                   'max_depth': [1,5,10,15,20,25,30,35,40]}\n",
    "model = DecisionTreeClassifier()\n",
    "model_cv = GridSearchCV(model,hyperparameters,cv=10)\n",
    "model_cv.fit(train_x,train_y)\n",
    "print(model_cv.best_params_)\n",
    "print(model_cv.best_score_)"
   ]
  },
  {
   "cell_type": "code",
   "execution_count": 47,
   "id": "52a34a0b-4b5b-4511-8af9-74ebd9f78984",
   "metadata": {},
   "outputs": [],
   "source": [
    "test_predictions = model_cv.predict(test)\n",
    "test_predictions = test_predictions.astype(int)\n",
    "\n",
    "df_test = pd.read_csv(\"test.csv\")\n",
    "to_save = df_test[['PassengerId']].copy()\n",
    "to_save.loc[:, 'Survived'] = test_predictions\n",
    "to_save.to_csv('titanic_submission.csv', index=False)"
   ]
  },
  {
   "cell_type": "code",
   "execution_count": null,
   "id": "85fe3ac2-0919-4644-b710-44056add4314",
   "metadata": {},
   "outputs": [],
   "source": []
  }
 ],
 "metadata": {
  "kernelspec": {
   "display_name": "Python 3",
   "language": "python",
   "name": "python3"
  },
  "language_info": {
   "codemirror_mode": {
    "name": "ipython",
    "version": 3
   },
   "file_extension": ".py",
   "mimetype": "text/x-python",
   "name": "python",
   "nbconvert_exporter": "python",
   "pygments_lexer": "ipython3",
   "version": "3.8.8"
  }
 },
 "nbformat": 4,
 "nbformat_minor": 5
}
